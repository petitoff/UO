{
 "cells": [
  {
   "cell_type": "markdown",
   "metadata": {},
   "source": [
    "1.\tWczytaj dwie liczby podane przez użytkownika i wypisz ich sumę."
   ]
  },
  {
   "cell_type": "code",
   "execution_count": 5,
   "metadata": {},
   "outputs": [
    {
     "name": "stdout",
     "output_type": "stream",
     "text": [
      "Zadanie 1:\n",
      "Suma tych liczb to: 3\n"
     ]
    }
   ],
   "source": [
    "print(\"Zadanie 1:\")\n",
    "a = int(input(\"Podaj pierwszą liczbę: \"))\n",
    "b = int(input(\"Podaj drugą liczbę: \"))\n",
    "print(\"Suma tych liczb to:\", a + b)"
   ]
  },
  {
   "cell_type": "markdown",
   "metadata": {},
   "source": [
    "2.\tNapisz funkcję Cube, która dla podanej liczby a obliczy pole powierzchni i objętość sześcianu o boku a."
   ]
  },
  {
   "cell_type": "code",
   "execution_count": 14,
   "metadata": {},
   "outputs": [
    {
     "name": "stdout",
     "output_type": "stream",
     "text": [
      "\n",
      "Zadanie 2:\n",
      "Pole powierzchni: 864.0, Objętość: 1728.0\n"
     ]
    }
   ],
   "source": [
    "def Cube(a):\n",
    "    powierzchnia = 6 * a**2\n",
    "    objetosc = a**3\n",
    "    return powierzchnia, objetosc\n",
    "\n",
    "print(\"\\nZadanie 2:\")\n",
    "bok = float(input(\"Podaj długość boku sześcianu: \"))\n",
    "powierzchnia, objetosc = Cube(bok)\n",
    "print(f\"Pole powierzchni: {powierzchnia}, Objętość: {objetosc}\")"
   ]
  },
  {
   "cell_type": "markdown",
   "metadata": {},
   "source": [
    "3.\tNapisz funkcję, która dla podanej liczby całkowitej wypisze wszystkie dzielniki tej liczby."
   ]
  },
  {
   "cell_type": "code",
   "execution_count": 7,
   "metadata": {},
   "outputs": [
    {
     "name": "stdout",
     "output_type": "stream",
     "text": [
      "\n",
      "Zadanie 3:\n",
      "Dzielniki tej liczby to: [1, 5]\n"
     ]
    }
   ],
   "source": [
    "def dzielniki(n):\n",
    "    wynik = []\n",
    "    for i in range(1, n + 1):\n",
    "        if n % i == 0:\n",
    "            wynik.append(i)\n",
    "    return wynik\n",
    "\n",
    "print(\"\\nZadanie 3:\")\n",
    "liczba = int(input(\"Podaj liczbę całkowitą: \"))\n",
    "print(\"Dzielniki tej liczby to:\", dzielniki(liczba))"
   ]
  },
  {
   "cell_type": "markdown",
   "metadata": {},
   "source": [
    "4.\tNapisz funkcję, która dla podanej liczby a wypisze tabliczkę mnożenia od 1 do a."
   ]
  },
  {
   "cell_type": "code",
   "execution_count": 15,
   "metadata": {},
   "outputs": [
    {
     "name": "stdout",
     "output_type": "stream",
     "text": [
      "\n",
      "Zadanie 4:\n",
      "   1   2   3   4   5\n",
      "   2   4   6   8  10\n",
      "   3   6   9  12  15\n",
      "   4   8  12  16  20\n",
      "   5  10  15  20  25\n"
     ]
    }
   ],
   "source": [
    "def tabliczka_mnozenia(a):\n",
    "    for i in range(1, a + 1):\n",
    "        for j in range(1, a + 1):\n",
    "            print(f\"{i*j:4}\", end=\"\")\n",
    "        print()\n",
    "\n",
    "print(\"\\nZadanie 4:\")\n",
    "wymiar = int(input(\"Podaj wymiar tabliczki mnożenia: \"))\n",
    "tabliczka_mnozenia(wymiar)"
   ]
  },
  {
   "cell_type": "markdown",
   "metadata": {},
   "source": [
    "5.\tNapisz funkcję Maks, która przy użyciu pętli while wczyta od użytkownika ciąg liczb (dowolnej długości) zakończony 0 oraz zwróci liczbę maksymalną tego ciągu."
   ]
  },
  {
   "cell_type": "code",
   "execution_count": 12,
   "metadata": {},
   "outputs": [
    {
     "name": "stdout",
     "output_type": "stream",
     "text": [
      "\n",
      "Zadanie 5:\n",
      "Podawaj liczby (0 kończy wpisywanie):\n",
      "Największa podana liczba to: 10\n"
     ]
    }
   ],
   "source": [
    "def Maks():\n",
    "    maks = None\n",
    "    print(\"Podawaj liczby (0 kończy wpisywanie):\")\n",
    "    while True:\n",
    "        liczba = int(input())\n",
    "        if liczba == 0:\n",
    "            break\n",
    "        if maks is None or liczba > maks:\n",
    "            maks = liczba\n",
    "    return maks\n",
    "\n",
    "print(\"\\nZadanie 5:\")\n",
    "najwieksza = Maks()\n",
    "if najwieksza is not None:\n",
    "    print(\"Największa podana liczba to:\", najwieksza)\n",
    "else:\n",
    "    print(\"Nie podano żadnej liczby.\")"
   ]
  }
 ],
 "metadata": {
  "kernelspec": {
   "display_name": ".venv",
   "language": "python",
   "name": "python3"
  },
  "language_info": {
   "codemirror_mode": {
    "name": "ipython",
    "version": 3
   },
   "file_extension": ".py",
   "mimetype": "text/x-python",
   "name": "python",
   "nbconvert_exporter": "python",
   "pygments_lexer": "ipython3",
   "version": "3.10.0"
  }
 },
 "nbformat": 4,
 "nbformat_minor": 2
}
